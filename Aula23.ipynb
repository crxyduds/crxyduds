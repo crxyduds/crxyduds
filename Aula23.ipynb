{
  "nbformat": 4,
  "nbformat_minor": 0,
  "metadata": {
    "colab": {
      "provenance": [],
      "authorship_tag": "ABX9TyPbvEvDuQSt75tR7cuIwnKU",
      "include_colab_link": true
    },
    "kernelspec": {
      "name": "python3",
      "display_name": "Python 3"
    },
    "language_info": {
      "name": "python"
    }
  },
  "cells": [
    {
      "cell_type": "markdown",
      "metadata": {
        "id": "view-in-github",
        "colab_type": "text"
      },
      "source": [
        "<a href=\"https://colab.research.google.com/github/crxyduds/crxyduds/blob/main/Aula23.ipynb\" target=\"_parent\"><img src=\"https://colab.research.google.com/assets/colab-badge.svg\" alt=\"Open In Colab\"/></a>"
      ]
    },
    {
      "cell_type": "code",
      "execution_count": 31,
      "metadata": {
        "id": "McZAzP9_eOiC"
      },
      "outputs": [],
      "source": [
        " class ProdutoEletronico:\n",
        "    def _init_(self, nome, marca, preco):\n",
        "\n",
        "       self.nome = nome\n",
        "       self.marca = marca\n",
        "       self.preco = preco\n",
        "\n",
        " def exibir_informacoes(self):\n",
        "\n",
        "     print(f\"Nome: {self.nome}, Marca: {self.marca}, Preço: R${self.preco:.2f}\")"
      ]
    },
    {
      "cell_type": "code",
      "source": [
        "class Smartphone(ProdutoEletronico):\n",
        "    # Chamando o método __init__() da classe base para inicializar os atributos comuns\n",
        "    def __init__(self, nome, marca, preco, capacidade_armazenamento):\n",
        "        super().__init__(nome, marca, preco)\n",
        "        # Adicionando atributo específico para smartphones\n",
        "        self.capacidade_armazenamento = capacidade_armazenamento\n",
        "\n",
        "    def exibir_informacoes(self):\n",
        "        # Sobrescrevendo o método exibir_informacoes() para incluir informações de smartphones\n",
        "        super().exibir_informacoes()\n",
        "        print(f\"Capacidade de Armazenamento: {self.capacidade_armazenamento}GB\")\n"
      ],
      "metadata": {
        "id": "xT9AY3NDkwwc"
      },
      "execution_count": 32,
      "outputs": []
    },
    {
      "cell_type": "code",
      "source": [
        "class Laptop(ProdutoEletronico):\n",
        "    # Chamando o método __init__() da classe base para inicializar os atributos comuns\n",
        "    def __init__(self, nome, marca, preco, memoria_ram):\n",
        "        # Adicionando atributo específico para laptops\n",
        "        super().__init__(nome, marca, preco)\n",
        "        self.memoria_ram = memoria_ram\n",
        "\n",
        "    def exibir_informacoes(self):\n",
        "        # Sobrescrevendo o método exibir_informacoes() para incluir informações de laptops\n",
        "        super().exibir_informacoes()\n",
        "        print(f\"Memória RAM: {self.memoria_ram}GB\")\n"
      ],
      "metadata": {
        "id": "ETQaAjXMljM7"
      },
      "execution_count": 33,
      "outputs": []
    },
    {
      "cell_type": "code",
      "source": [
        "class Televisor (ProdutoEletronico):\n",
        "    # Chamando o método __init__() da classe base para inicializar os atributos comuns\n",
        "    def __init__(self, nome, marca, preco, tamanho_tela):\n",
        "        # Adicionando atributo específico para televisores\n",
        "        super().__init__(nome, marca, preco)\n",
        "        self.tamanho_tela = tamanho_tela\n",
        "\n",
        "    def exibir_informacoes(self):\n",
        "        # Sobrescrevendo o método exibir_informacoes() para incluir informações de televisores\n",
        "        super().exibir_informacoes()\n",
        "        print(f\"Tamanho da Tela: {self.tamanho_tela} polegadas\")\n"
      ],
      "metadata": {
        "id": "VErFwf5nlyGC"
      },
      "execution_count": 34,
      "outputs": []
    },
    {
      "cell_type": "code",
      "source": [
        "class ProdutoEletronico:\n",
        "    def __init__(self, nome, marca, preco):\n",
        "        self.nome = nome\n",
        "        self.marca = marca\n",
        "        self.preco = preco\n",
        "\n",
        "    def exibir_informacoes(self):\n",
        "        print(f\"Nome: {self.nome}, Marca: {self.marca}, Preço: {self.preco}\")\n",
        "\n",
        "class Smartphone(ProdutoEletronico):\n",
        "    def __init__(self, nome, marca, preco, armazenamento):\n",
        "        super().__init__(nome, marca, preco)\n",
        "        self.armazenamento = armazenamento\n",
        "\n",
        "    def exibir_informacoes(self):\n",
        "        super().exibir_informacoes()\n",
        "        print(f\"Armazenamento: {self.armazenamento}GB\")\n"
      ],
      "metadata": {
        "id": "q3lHJ-ftmbjk"
      },
      "execution_count": 35,
      "outputs": []
    },
    {
      "cell_type": "code",
      "source": [
        "class Televisor(ProdutoEletronico):\n",
        "    # Chamando o método __init__() da classe base para inicializar os atributos comuns\n",
        "    def __init__(self, nome, marca, preco, tamanho_tela):\n",
        "        # Adicionando atributo específico para televisores\n",
        "        super().__init__(nome, marca, preco)\n",
        "        self.tamanho_tela = tamanho_tela\n",
        "\n",
        "    def exibir_informacoes(self):\n",
        "        # Sobrescrevendo o método exibir_informacoes() para incluir informações de televisores\n",
        "        super().exibir_informacoes()\n",
        "        print(f\"Tamanho da Tela: {self.tamanho_tela} polegadas\")\n"
      ],
      "metadata": {
        "id": "l4nHOJBVmeE7"
      },
      "execution_count": 36,
      "outputs": []
    }
  ]
}